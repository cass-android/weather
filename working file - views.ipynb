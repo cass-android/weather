{
 "cells": [
  {
   "cell_type": "code",
   "execution_count": null,
   "metadata": {},
   "outputs": [],
   "source": [
    "now - datetime.timedelta(minutes=4)"
   ]
  },
  {
   "cell_type": "code",
   "execution_count": null,
   "metadata": {},
   "outputs": [],
   "source": [
    "then = now - datetime.timedelta(hours=6)"
   ]
  },
  {
   "cell_type": "code",
   "execution_count": 1,
   "metadata": {},
   "outputs": [],
   "source": [
    "from flask import render_template, request\n",
    "from app import app\n",
    "from models import Historical, Forecast, Station, Current\n",
    "import datetime\n",
    "\n",
    "import plotly\n",
    "import plotly.graph_objs as go \n",
    "\n",
    "import pandas as pd\n",
    "import numpy as np \n",
    "import json"
   ]
  },
  {
   "cell_type": "code",
   "execution_count": null,
   "metadata": {},
   "outputs": [],
   "source": [
    "import matplotlib as mpl\n",
    "import matplotlib.pyplot as plt\n",
    "import numpy as np\n",
    "\n",
    "def colorFader(c1,c2,mix=0): #fade (linear interpolate) from color c1 (at mix=0) to c2 (mix=1)\n",
    "    c1=np.array(mpl.colors.to_rgb(c1))\n",
    "    c2=np.array(mpl.colors.to_rgb(c2))\n",
    "    return mpl.colors.to_hex((1-mix)*c1 + mix*c2)\n",
    "\n",
    "c1='#1f77b4' #blue\n",
    "c2='green' #green\n",
    "n=500\n",
    "\n",
    "fig, ax = plt.subplots(figsize=(8, 5))\n",
    "for x in range(n+1):\n",
    "    ax.axvline(x, color=colorFader(c1,c2,x/n), linewidth=4) \n",
    "plt.show()\n",
    "\n"
   ]
  },
  {
   "cell_type": "code",
   "execution_count": 4,
   "metadata": {},
   "outputs": [
    {
     "name": "stdout",
     "output_type": "stream",
     "text": [
      "2019-06-21 21:00:00\n",
      "2019-06-21 20:00:00\n",
      "2019-06-21 19:00:00\n",
      "2019-06-21 18:00:00\n",
      "2019-06-21 17:00:00\n",
      "2019-06-21 16:00:00\n",
      "2019-06-21 15:00:00\n",
      "2019-06-21 14:00:00\n",
      "2019-06-21 13:00:00\n",
      "2019-06-21 12:00:00\n",
      "2019-06-21 11:00:00\n",
      "2019-06-21 10:00:00\n",
      "2019-06-21 09:00:00\n",
      "2019-06-21 08:00:00\n",
      "2019-06-21 07:00:00\n",
      "2019-06-21 06:00:00\n",
      "2019-06-21 05:00:00\n",
      "2019-06-21 04:00:00\n",
      "2019-06-21 03:00:00\n",
      "2019-06-21 02:00:00\n",
      "2019-06-21 01:00:00\n",
      "2019-06-21 00:00:00\n",
      "2019-06-20 23:00:00\n"
     ]
    }
   ],
   "source": [
    "now = datetime.datetime.now().replace(microsecond=0,second=0,minute=0)\n",
    "for n in range (1,24):\n",
    "    print(now - datetime.timedelta(hours=n))"
   ]
  },
  {
   "cell_type": "code",
   "execution_count": 43,
   "metadata": {},
   "outputs": [],
   "source": [
    "def query_over_period(m):\n",
    "    d = {}\n",
    "    for n in range (1,48):\n",
    "\n",
    "        [print(x.drybulb, x.id, x.retrieval_time) for x in Forecast.query.filter(\n",
    "        Forecast.id == now - datetime.timedelta(hours=n),\n",
    "        Forecast.retrieval_time == Forecast.id - datetime.timedelta(hours=m)\n",
    "        )]\n",
    "        \n",
    "        \n",
    "        "
   ]
  },
  {
   "cell_type": "code",
   "execution_count": 49,
   "metadata": {},
   "outputs": [
    {
     "name": "stdout",
     "output_type": "stream",
     "text": [
      "19 2019-06-21 18:00:00 2019-06-20 18:00:00\n"
     ]
    }
   ],
   "source": [
    "query_over_period(24)"
   ]
  },
  {
   "cell_type": "code",
   "execution_count": 16,
   "metadata": {},
   "outputs": [
    {
     "data": {
      "text/plain": [
       "datetime.datetime(2019, 6, 21, 18, 0)"
      ]
     },
     "execution_count": 16,
     "metadata": {},
     "output_type": "execute_result"
    }
   ],
   "source": [
    "Forecast.retrieval_time == now - datetime.timedelta(hours=m),"
   ]
  },
  {
   "cell_type": "code",
   "execution_count": null,
   "metadata": {},
   "outputs": [],
   "source": [
    "data"
   ]
  },
  {
   "cell_type": "code",
   "execution_count": null,
   "metadata": {},
   "outputs": [],
   "source": [
    "data = []\n",
    "def hourly_plot():\n",
    "\n",
    "    for n in range(24):\n",
    "        x = [x.id for x in Forecast.query.filter(Forecast.retrieval_time >= now - datetime.timedelta(hours=n),\n",
    "            Forecast.retrieval_time < now - datetime.timedelta(minutes=355)).order_by(Forecast.id)]\n",
    "\n",
    "        y = [x.drybulb for x in Forecast.query.filter(Forecast.retrieval_time >= now - datetime.timedelta(hours=n),\n",
    "            Forecast.retrieval_time < now - datetime.timedelta(minutes=355)).order_by(Forecast.id)]   \n",
    "\n",
    "\n",
    "        forecasts = go.Scatter(\n",
    "                x=x,\n",
    "                y=y,\n",
    "                name='forecasts_{}h'.format(n),\n",
    "                line=dict(\n",
    "                    color = ('rgb(0,76,153)'),\n",
    "                    width = 2,)\n",
    "                )\n",
    "        data.append(forecasts)\n"
   ]
  },
  {
   "cell_type": "code",
   "execution_count": null,
   "metadata": {},
   "outputs": [],
   "source": [
    "data = [historicals, actuals, forecasts_latest, forecasts_6h, forecasts_1d, forecasts_2d]\n",
    "fig = go.Figure(data=data, layout=layout)\n",
    "graphJSON = json.dumps(fig, cls=plotly.utils.PlotlyJSONEncoder)\n",
    "return graphJSON\n",
    "\n"
   ]
  },
  {
   "cell_type": "code",
   "execution_count": null,
   "metadata": {},
   "outputs": [],
   "source": [
    "    # 6h   \n",
    "    x4 = [x.id for x in Forecast.query.filter(Forecast.retrieval_time >= now - datetime.timedelta(hours=4),\n",
    "    \tForecast.retrieval_time < now - datetime.timedelta(minutes=355)).order_by(Forecast.id)]\n",
    "\n",
    "    y4 = [x.drybulb for x in Forecast.query.filter(Forecast.retrieval_time >= now - datetime.timedelta(hours=4),\n",
    "    \tForecast.retrieval_time < now - datetime.timedelta(minutes=355)).order_by(Forecast.id)]\n"
   ]
  },
  {
   "cell_type": "code",
   "execution_count": null,
   "metadata": {},
   "outputs": [],
   "source": [
    "@app.route('/')\n",
    "def index():   \n",
    "\n",
    "    plot = create_plot()\n",
    "    return render_template(\"index.html\", plot=plot)    \n",
    "    \n",
    "def create_plot():\n",
    "    N = 40\n",
    "    now = datetime.datetime.now()\n",
    "    x00 = [x.id for x in Historical.query.filter(Historical.id >= now - datetime.timedelta(days=7)).order_by(Historical.id)]\n",
    "    y00 = [x.drybulb for x in Historical.query.filter(Historical.id >= now - datetime.timedelta(days=7)).order_by(Historical.id)]\n",
    "\n",
    "    # actuals\n",
    "    x0 = [x.id for x in Current.query.filter(Current.id >= now - datetime.timedelta(days=7)).order_by(Current.id)]\n",
    "    y0 = [x.drybulb for x in Current.query.filter(Current.id >= now - datetime.timedelta(days=7)).order_by(Current.id)]\n",
    "\n",
    "    # latest forecast (retrieved within the last hour)   \n",
    "    x1 = [x.id for x in Forecast.query.filter(Forecast.retrieval_time >= now - datetime.timedelta(hours=1))\n",
    "          .order_by(Forecast.id)]\n",
    "\n",
    "    y1 = [x.drybulb for x in Forecast.query.filter(Forecast.retrieval_time >= now - datetime.timedelta(hours=1))\n",
    "          .order_by(Forecast.id)]\n",
    "\n",
    "    # 6h   \n",
    "    x4 = [x.id for x in Forecast.query.filter(Forecast.retrieval_time >= now - datetime.timedelta(hours=6),\n",
    "    \tForecast.retrieval_time < now - datetime.timedelta(minutes=355)).order_by(Forecast.id)]\n",
    "\n",
    "    y4 = [x.drybulb for x in Forecast.query.filter(Forecast.retrieval_time >= now - datetime.timedelta(hours=6),\n",
    "    \tForecast.retrieval_time < now - datetime.timedelta(minutes=355)).order_by(Forecast.id)]\n",
    "        \n",
    "    # retrieved on roughly this hour, 1d ago\n",
    "    # datetime greater than now minus 1d; less than five minutes after now minus 1d   \n",
    "    x2 = [x.id for x in Forecast.query.filter(Forecast.retrieval_time > now - datetime.timedelta(days=1),\n",
    "        Forecast.retrieval_time < now - datetime.timedelta(minutes=1435)).order_by(Forecast.id)]\n",
    "\n",
    "    y2 = [x.drybulb for x in Forecast.query.filter(Forecast.retrieval_time > now - datetime.timedelta(days=1),\n",
    "        Forecast.retrieval_time < now - datetime.timedelta(minutes=1435)).order_by(Forecast.id)]\n",
    "\n",
    "    # retrieved on roughly this hour, 2d ago\n",
    "    # datetime greater than now minus 2d; less than five minutes after now minus 2d   \n",
    "    x3 = [x.id for x in Forecast.query.filter(Forecast.retrieval_time > now - datetime.timedelta(days=2),\n",
    "        Forecast.retrieval_time < now - datetime.timedelta(minutes=2875)).order_by(Forecast.id)]\n",
    "\n",
    "    y3 = [x.drybulb for x in Forecast.query.filter(Forecast.retrieval_time > now - datetime.timedelta(days=2),\n",
    "        Forecast.retrieval_time < now - datetime.timedelta(minutes=2875)).order_by(Forecast.id)]\n",
    "\n",
    "    historicals = go.Scatter(\n",
    "            x=x00,\n",
    "            y=y00,\n",
    "            name='historicals',\n",
    "            line=dict(\n",
    "                color = ('rgb(192,192,192)'),\n",
    "                width = 2,)\n",
    "            )\n",
    "\n",
    "    actuals = go.Scatter(\n",
    "            x=x0,\n",
    "            y=y0,\n",
    "            name='actuals',\n",
    "            mode='lines',\n",
    "            line=dict(\n",
    "                color = ('rgb(255,0,127)'),\n",
    "                width = 3,)\n",
    "            )\n",
    "    \n",
    "    forecasts_latest = go.Scatter(\n",
    "            x=x1,\n",
    "            y=y1,\n",
    "            name='forecasts_latest',\n",
    "            line=dict(\n",
    "                color = ('rgb(0,51,102)'),\n",
    "                width = 2,)\n",
    "            )\n",
    "\n",
    "    forecasts_1d = go.Scatter(\n",
    "            x=x2,\n",
    "            y=y2,\n",
    "            name='forecasts_1d',\n",
    "            line=dict(\n",
    "                color = ('rgb(0,76,153)'),\n",
    "                width = 2,)\n",
    "            )\n",
    "\n",
    "    forecasts_2d = go.Scatter(\n",
    "            x=x3,\n",
    "            y=y3,\n",
    "            name='forecasts_2d',\n",
    "            line=dict(\n",
    "                color = ('rgb(0,102,204)'),\n",
    "                width = 2,)\n",
    "            )\n",
    "\n",
    "    forecasts_6h = go.Scatter(\n",
    "            x=x4,\n",
    "            y=y4,\n",
    "            name='forecasts_6h',\n",
    "            line=dict(\n",
    "                color = ('rgb(0,128,255)'),\n",
    "                width = 2,)\n",
    "            )\n",
    "\n",
    "    layout = go.Layout(\n",
    "    title=go.layout.Title(\n",
    "        text='Weather Forecast Tracker',\n",
    "            font=dict(\n",
    "                family='Helvetica, monospace',\n",
    "                size=20\n",
    "\t            )\n",
    "    ),\n",
    "\n",
    "    xaxis=go.layout.XAxis(\n",
    "        title=go.layout.xaxis.Title(\n",
    "            text='Week of {}'.format((now - datetime.timedelta(days=now.weekday())).date()),\n",
    "            font=dict(\n",
    "                family='Helvetica, monospace',\n",
    "                size=18\n",
    "            )\n",
    "        )\n",
    "    ),\n",
    "\n",
    "    yaxis=go.layout.YAxis(\n",
    "        title=go.layout.yaxis.Title(\n",
    "            text='Degrees C',\n",
    "            font=dict(\n",
    "                family='Helvetica, monospace',\n",
    "                size=18\n",
    "\t            )\n",
    "\t        )\n",
    "\t    )\n",
    "\t)\n",
    "\n",
    "    \n",
    "\n",
    "    data = [historicals, actuals, forecasts_latest, forecasts_6h, forecasts_1d, forecasts_2d]\n",
    "    fig = go.Figure(data=data, layout=layout)\n",
    "    graphJSON = json.dumps(fig, cls=plotly.utils.PlotlyJSONEncoder)\n",
    "    return graphJSON\n"
   ]
  },
  {
   "cell_type": "code",
   "execution_count": null,
   "metadata": {},
   "outputs": [],
   "source": [
    "create_plot()"
   ]
  },
  {
   "cell_type": "code",
   "execution_count": null,
   "metadata": {},
   "outputs": [],
   "source": []
  }
 ],
 "metadata": {
  "kernelspec": {
   "display_name": "Python [conda env:weather] *",
   "language": "python",
   "name": "conda-env-weather-py"
  },
  "language_info": {
   "codemirror_mode": {
    "name": "ipython",
    "version": 3
   },
   "file_extension": ".py",
   "mimetype": "text/x-python",
   "name": "python",
   "nbconvert_exporter": "python",
   "pygments_lexer": "ipython3",
   "version": "3.7.3"
  }
 },
 "nbformat": 4,
 "nbformat_minor": 2
}
