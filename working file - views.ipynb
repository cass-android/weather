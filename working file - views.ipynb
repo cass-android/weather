{
 "cells": [
  {
   "cell_type": "code",
   "execution_count": null,
   "metadata": {},
   "outputs": [],
   "source": [
    "from flask import render_template, request\n",
    "from app import app\n",
    "from models import Historical, Forecast, Station, Current\n",
    "import datetime\n",
    "\n",
    "import plotly\n",
    "import plotly.graph_objs as go \n",
    "\n",
    "import pandas as pd\n",
    "import numpy as np \n",
    "import json"
   ]
  },
  {
   "cell_type": "code",
   "execution_count": null,
   "metadata": {},
   "outputs": [],
   "source": [
    "print(datetime.datetime.now())\n",
    "print(datetime.date.today())"
   ]
  },
  {
   "cell_type": "code",
   "execution_count": 2,
   "metadata": {},
   "outputs": [],
   "source": [
    "@app.route('/')\n",
    "def index():   \n",
    "\n",
    "    line = create_plot()\n",
    "    return render_template(\"index.html\", plot=line)    \n",
    "    \n",
    "def create_plot():\n",
    "    N = 40\n",
    "    now = datetime.datetime.now()\n",
    "    x00 = [x.id for x in Historical.query.filter(Historical.id >= now - datetime.timedelta(days=7)).order_by(Historical.id)]\n",
    "    y00 = [x.drybulb for x in Historical.query.filter(Historical.id >= now - datetime.timedelta(days=7)).order_by(Historical.id)]\n",
    "\n",
    "    x0 = [x.id for x in Current.query.all()]\n",
    "    y0 = [x.drybulb for x in Current.query.all()]\n",
    "\n",
    "    # latest forecast (retrieved hourly)\n",
    "    # just select the latest \n",
    "    \n",
    "    # x1 = \n",
    "\n",
    "    # y1 =   \n",
    "        \n",
    "    # retrieved on roughly this hour, 1d ago\n",
    "    # datetime greater than now minus 1d; less than five minutes after now minus 1d\n",
    "    \n",
    "    x2 = [x.id for x in Forecast.query.filter(Forecast.retrieval_time > now - datetime.timedelta(days=1),\n",
    "        Forecast.retrieval_time < now - datetime.timedelta(minutes=1435)).order_by(Forecast.id)]\n",
    "\n",
    "    y2 = [x.id for x in Forecast.query.filter(Forecast.retrieval_time > now - datetime.timedelta(days=1),\n",
    "        Forecast.retrieval_time < now - datetime.timedelta(minutes=1435)).order_by(Forecast.id)]\n",
    "\n",
    "    # retrieved on roughly this hour, 2d ago\n",
    "    # datetime greater than now minus 2d; less than five minutes after now minus 2d\n",
    "    \n",
    "    x3 = [x.id for x in Forecast.query.filter(Forecast.retrieval_time > now - datetime.timedelta(days=2),\n",
    "        Forecast.retrieval_time < now - datetime.timedelta(minutes=2875)).order_by(Forecast.id)]\n",
    "\n",
    "    y3 = [x.id for x in Forecast.query.filter(Forecast.retrieval_time > now - datetime.timedelta(days=2),\n",
    "        Forecast.retrieval_time < now - datetime.timedelta(minutes=2875)).order_by(Forecast.id)]\n",
    "\n",
    "    historicals = go.Line(\n",
    "            x=x00,\n",
    "            y=y00,\n",
    "            name='historicals'\n",
    "            )\n",
    "\n",
    "    actuals = go.Line(\n",
    "            x=x0,\n",
    "            y=y0,\n",
    "            name='actuals'\n",
    "            )\n",
    "    \n",
    "\n",
    "    forecasts_1d = go.Line(\n",
    "            x=x2,\n",
    "            y=y2,\n",
    "            name='forecasts_1d'\n",
    "            )\n",
    "\n",
    "    forecasts_2d = go.Line(\n",
    "            x=x3,\n",
    "            y=y3,\n",
    "            name='forecasts_2d'\n",
    "            )\n",
    "\n",
    "    data = [historicals, actuals, forecasts_1d, forecasts_2d]\n",
    "    graphJSON = json.dumps(data, cls=plotly.utils.PlotlyJSONEncoder)\n",
    "\n",
    "    return graphJSON"
   ]
  },
  {
   "cell_type": "code",
   "execution_count": 3,
   "metadata": {},
   "outputs": [
    {
     "name": "stderr",
     "output_type": "stream",
     "text": [
      "/Users/home/anaconda/envs/weather/lib/python3.7/site-packages/plotly/graph_objs/_deprecations.py:372: DeprecationWarning:\n",
      "\n",
      "plotly.graph_objs.Line is deprecated.\n",
      "Please replace it with one of the following more specific types\n",
      "  - plotly.graph_objs.scatter.Line\n",
      "  - plotly.graph_objs.layout.shape.Line\n",
      "  - etc.\n",
      "\n",
      "\n"
     ]
    },
    {
     "data": {
      "text/plain": [
       "'[{\"x\": [\"2019-06-13 17:00:00\", \"2019-06-13 18:00:00\", \"2019-06-13 19:00:00\", \"2019-06-13 20:00:00\", \"2019-06-13 21:00:00\", \"2019-06-13 22:00:00\", \"2019-06-13 23:00:00\", \"2019-06-14\", \"2019-06-14 01:00:00\", \"2019-06-14 02:00:00\", \"2019-06-14 03:00:00\", \"2019-06-14 04:00:00\", \"2019-06-14 05:00:00\", \"2019-06-14 06:00:00\", \"2019-06-14 07:00:00\", \"2019-06-14 08:00:00\", \"2019-06-14 09:00:00\", \"2019-06-14 10:00:00\", \"2019-06-14 11:00:00\", \"2019-06-14 12:00:00\", \"2019-06-14 13:00:00\", \"2019-06-14 14:00:00\", \"2019-06-14 15:00:00\", \"2019-06-14 16:00:00\", \"2019-06-14 17:00:00\", \"2019-06-14 18:00:00\", \"2019-06-14 19:00:00\", \"2019-06-14 20:00:00\", \"2019-06-14 21:00:00\", \"2019-06-14 22:00:00\", \"2019-06-14 23:00:00\", \"2019-06-15\", \"2019-06-15 01:00:00\", \"2019-06-15 02:00:00\", \"2019-06-15 03:00:00\", \"2019-06-15 04:00:00\", \"2019-06-15 05:00:00\", \"2019-06-15 06:00:00\", \"2019-06-15 07:00:00\", \"2019-06-15 08:00:00\", \"2019-06-15 09:00:00\", \"2019-06-15 10:00:00\", \"2019-06-15 11:00:00\", \"2019-06-15 12:00:00\", \"2019-06-15 13:00:00\", \"2019-06-15 14:00:00\", \"2019-06-15 15:00:00\", \"2019-06-15 16:00:00\", \"2019-06-15 17:00:00\", \"2019-06-15 18:00:00\", \"2019-06-15 19:00:00\", \"2019-06-15 20:00:00\", \"2019-06-15 21:00:00\", \"2019-06-15 22:00:00\", \"2019-06-15 23:00:00\", \"2019-06-16\", \"2019-06-16 01:00:00\", \"2019-06-16 02:00:00\", \"2019-06-16 03:00:00\", \"2019-06-16 04:00:00\", \"2019-06-16 05:00:00\", \"2019-06-16 06:00:00\", \"2019-06-16 07:00:00\", \"2019-06-16 08:00:00\", \"2019-06-16 09:00:00\", \"2019-06-16 10:00:00\", \"2019-06-16 11:00:00\", \"2019-06-16 12:00:00\", \"2019-06-16 13:00:00\", \"2019-06-16 14:00:00\", \"2019-06-16 15:00:00\", \"2019-06-16 16:00:00\", \"2019-06-16 17:00:00\", \"2019-06-16 18:00:00\", \"2019-06-16 19:00:00\", \"2019-06-16 20:00:00\", \"2019-06-16 21:00:00\", \"2019-06-16 22:00:00\", \"2019-06-16 23:00:00\", \"2019-06-17\", \"2019-06-17 01:00:00\", \"2019-06-17 02:00:00\", \"2019-06-17 03:00:00\", \"2019-06-17 04:00:00\", \"2019-06-17 05:00:00\", \"2019-06-17 06:00:00\", \"2019-06-17 07:00:00\", \"2019-06-17 08:00:00\", \"2019-06-17 09:00:00\", \"2019-06-17 10:00:00\", \"2019-06-17 11:00:00\", \"2019-06-17 12:00:00\", \"2019-06-17 13:00:00\", \"2019-06-17 14:00:00\", \"2019-06-17 15:00:00\", \"2019-06-17 16:00:00\", \"2019-06-17 17:00:00\", \"2019-06-17 18:00:00\", \"2019-06-17 19:00:00\", \"2019-06-17 20:00:00\", \"2019-06-17 21:00:00\", \"2019-06-17 22:00:00\", \"2019-06-17 23:00:00\", \"2019-06-18\", \"2019-06-18 01:00:00\", \"2019-06-18 02:00:00\", \"2019-06-18 03:00:00\", \"2019-06-18 04:00:00\", \"2019-06-18 05:00:00\", \"2019-06-18 06:00:00\", \"2019-06-18 07:00:00\", \"2019-06-18 08:00:00\", \"2019-06-18 09:00:00\", \"2019-06-18 10:00:00\", \"2019-06-18 11:00:00\", \"2019-06-18 12:00:00\", \"2019-06-18 13:00:00\", \"2019-06-18 14:00:00\", \"2019-06-18 15:00:00\", \"2019-06-18 16:00:00\", \"2019-06-18 17:00:00\", \"2019-06-18 18:00:00\", \"2019-06-18 19:00:00\", \"2019-06-18 20:00:00\", \"2019-06-18 21:00:00\", \"2019-06-18 22:00:00\", \"2019-06-18 23:00:00\"], \"y\": [16, 16, 15, 14, 15, 15, 14, 14, 14, 13, 13, 12, 12, 12, 14, 14, 16, 18, 20, 21, 22, 23, 23, 23, 22, 22, 20, 19, 18, 18, 17, 16, 16, 16, 16, 16, 16, 16, 16, 18, 17, 20, 19, 18, 19, 19, 18, 18, 17, 19, 18, 18, 17, 17, 16, 16, 15, 14, 14, 13, 12, 13, 15, 17, 18, 17, 18, 17, 17, 17, 17, 18, 19, 19, 18, 16, 15, 14, 14, 15, 16, 16, 16, 16, 16, 16, 17, 17, 18, 20, 21, 21, 20, 20, 20, 20, 20, 20, 19, 18, 17, 18, 17, 17, 17, 17, 18, 18, 18, 18, 19, 18, 20, 21, 22, 23, 22, 23, 23, 24, 23, 23, 21, 19, 19, 18, 19], \"name\": \"historicals\"}, {\"x\": [\"2019-06-19 23:50:32.893761\", \"2019-06-20 00:07:11.832030\", \"2019-06-20 13:14:48.618767\", \"2019-06-20 15:21:13.312221\"], \"y\": [19, 19, 21, 21], \"name\": \"actuals\"}, {\"x\": [], \"y\": [], \"name\": \"forecasts_1d\"}, {\"x\": [], \"y\": [], \"name\": \"forecasts_2d\"}]'"
      ]
     },
     "execution_count": 3,
     "metadata": {},
     "output_type": "execute_result"
    }
   ],
   "source": [
    "create_plot()"
   ]
  },
  {
   "cell_type": "code",
   "execution_count": null,
   "metadata": {},
   "outputs": [],
   "source": []
  }
 ],
 "metadata": {
  "kernelspec": {
   "display_name": "Python [conda env:weather] *",
   "language": "python",
   "name": "conda-env-weather-py"
  },
  "language_info": {
   "codemirror_mode": {
    "name": "ipython",
    "version": 3
   },
   "file_extension": ".py",
   "mimetype": "text/x-python",
   "name": "python",
   "nbconvert_exporter": "python",
   "pygments_lexer": "ipython3",
   "version": "3.7.3"
  }
 },
 "nbformat": 4,
 "nbformat_minor": 2
}
