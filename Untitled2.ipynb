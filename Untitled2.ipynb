{
 "cells": [
  {
   "cell_type": "code",
   "execution_count": 1,
   "metadata": {},
   "outputs": [],
   "source": [
    "from flask import render_template, request\n",
    "from app import app\n",
    "from models import Historical, Forecast, Station, Current\n",
    "import datetime\n",
    "import plotly\n",
    "from plotly import graph_objs as go\n",
    "from plotly import plotly as py \n",
    "from plotly import tools\n",
    "import matplotlib as mpl\n",
    "import pandas as pd\n",
    "import numpy as np \n",
    "import json"
   ]
  },
  {
   "cell_type": "code",
   "execution_count": 4,
   "metadata": {},
   "outputs": [],
   "source": [
    "def create_now():\n",
    "\tnow = datetime.datetime.now().replace(microsecond=0,second=0,minute=0)\n",
    "\tx = [now, now]\n",
    "\ty = [0, 30]\n",
    "\n",
    "\tnowtrace = go.Scatter(\n",
    "\t\tx=x,\n",
    "\t\ty=y,\n",
    "\t\tname='current time',\n",
    "\t\tmode='lines',\n",
    "\t\tline=dict(\n",
    "\t\t\tcolor =('#EFB805'),\n",
    "\t\t\twidth = 4)\n",
    "\t\t)\n",
    "\n",
    "\treturn nowtrace"
   ]
  },
  {
   "cell_type": "code",
   "execution_count": 5,
   "metadata": {},
   "outputs": [
    {
     "data": {
      "text/plain": [
       "Scatter({\n",
       "    'line': {'color': '#EFB805', 'width': 4},\n",
       "    'mode': 'lines',\n",
       "    'name': 'current time',\n",
       "    'x': [2019-06-29 13:00:00, 2019-06-29 13:00:00],\n",
       "    'y': [0, 30]\n",
       "})"
      ]
     },
     "execution_count": 5,
     "metadata": {},
     "output_type": "execute_result"
    }
   ],
   "source": [
    "create_now()"
   ]
  },
  {
   "cell_type": "code",
   "execution_count": null,
   "metadata": {},
   "outputs": [],
   "source": []
  }
 ],
 "metadata": {
  "kernelspec": {
   "display_name": "Python [conda env:weather] *",
   "language": "python",
   "name": "conda-env-weather-py"
  },
  "language_info": {
   "codemirror_mode": {
    "name": "ipython",
    "version": 3
   },
   "file_extension": ".py",
   "mimetype": "text/x-python",
   "name": "python",
   "nbconvert_exporter": "python",
   "pygments_lexer": "ipython3",
   "version": "3.7.3"
  }
 },
 "nbformat": 4,
 "nbformat_minor": 2
}
