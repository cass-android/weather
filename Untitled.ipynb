{
 "cells": [
  {
   "cell_type": "code",
   "execution_count": 49,
   "metadata": {},
   "outputs": [],
   "source": [
    "import pandas as pd\n",
    "import datetime\n",
    "import requests\n",
    "import re\n",
    "from bs4 import BeautifulSoup as bs\n",
    "from dateutil.relativedelta import *\n",
    "from sqlalchemy import create_engine\n",
    "import os\n",
    "from app import db\n",
    "from models import Forecast, Current\n",
    "from weather_downloader import *"
   ]
  },
  {
   "cell_type": "code",
   "execution_count": 53,
   "metadata": {},
   "outputs": [],
   "source": [
    "def add_current():\n",
    "    session = db.session        # Creates a SQLAlchemy Session\n",
    "    this_hour = datetime.datetime.now().replace(microsecond=0,second=0,minute=0)\n",
    "    \n",
    "    try:\n",
    "        row = get_current()\n",
    "        new_data = Current(\n",
    "            id=row['id'], \n",
    "            drybulb=row['drybulb'], \n",
    "            relative_humidity=row['relative_humidity']\n",
    "            )\n",
    "        session.merge(new_data) # Adds new data\n",
    "        \n",
    "        Current.query.filter(\n",
    "            Current.id < this_hour - datetime.timedelta(hours=200)\n",
    "        ).delete               # Deletes old data\n",
    "        \n",
    "        session.commit()\n",
    "\n",
    "    except:\n",
    "        flash('something messed up')"
   ]
  },
  {
   "cell_type": "code",
   "execution_count": 54,
   "metadata": {},
   "outputs": [],
   "source": [
    "add_current()"
   ]
  },
  {
   "cell_type": "code",
   "execution_count": 58,
   "metadata": {},
   "outputs": [],
   "source": [
    "def add_forecasts():\n",
    "    session = db.session        # Creates a SQLAlchemy Session\n",
    "        \n",
    "    try:\n",
    "        df = get_forecasts()\n",
    "        for row in df.itertuples(): \n",
    "            data = Forecast(\n",
    "                            id=row[0], \n",
    "                            retrieval_time=row[1],\n",
    "                            drybulb=row[2], \n",
    "                            relative_humidity=row[3]\n",
    "                            )\n",
    "            session.merge(data) # adds new forecasts\n",
    "            Forecast.query.filter(\n",
    "                Forecast.id < this_hour - datetime.timedelta(hours=200)\n",
    "            ).delete()          # deletes old forecasts\n",
    "            \n",
    "            session.commit()    # commits changes to db\n",
    "\n",
    "    except:\n",
    "        flash('something messed up')"
   ]
  },
  {
   "cell_type": "code",
   "execution_count": 59,
   "metadata": {},
   "outputs": [],
   "source": [
    "add_forecasts()"
   ]
  },
  {
   "cell_type": "code",
   "execution_count": null,
   "metadata": {},
   "outputs": [],
   "source": []
  }
 ],
 "metadata": {
  "kernelspec": {
   "display_name": "Python [conda env:weather] *",
   "language": "python",
   "name": "conda-env-weather-py"
  },
  "language_info": {
   "codemirror_mode": {
    "name": "ipython",
    "version": 3
   },
   "file_extension": ".py",
   "mimetype": "text/x-python",
   "name": "python",
   "nbconvert_exporter": "python",
   "pygments_lexer": "ipython3",
   "version": "3.7.3"
  }
 },
 "nbformat": 4,
 "nbformat_minor": 2
}
