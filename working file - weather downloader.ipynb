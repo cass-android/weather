{
 "cells": [
  {
   "cell_type": "code",
   "execution_count": 1,
   "metadata": {},
   "outputs": [],
   "source": [
    "import pandas as pd\n",
    "import datetime\n",
    "import requests\n",
    "import re\n",
    "from bs4 import BeautifulSoup as bs\n",
    "from dateutil.relativedelta import *\n",
    "from sqlalchemy import create_engine\n",
    "import os\n",
    "from app import db\n",
    "from models import Historical, Forecast, Station, Current"
   ]
  },
  {
   "cell_type": "code",
   "execution_count": 9,
   "metadata": {},
   "outputs": [
    {
     "ename": "SyntaxError",
     "evalue": "invalid syntax (<ipython-input-9-d8603f9f9bc3>, line 1)",
     "output_type": "error",
     "traceback": [
      "\u001b[0;36m  File \u001b[0;32m\"<ipython-input-9-d8603f9f9bc3>\"\u001b[0;36m, line \u001b[0;32m1\u001b[0m\n\u001b[0;31m    which python\u001b[0m\n\u001b[0m               ^\u001b[0m\n\u001b[0;31mSyntaxError\u001b[0m\u001b[0;31m:\u001b[0m invalid syntax\n"
     ]
    }
   ],
   "source": [
    "which python"
   ]
  },
  {
   "cell_type": "code",
   "execution_count": null,
   "metadata": {},
   "outputs": [],
   "source": [
    "df = get_forecasts()\n",
    "df.head()"
   ]
  },
  {
   "cell_type": "code",
   "execution_count": 2,
   "metadata": {},
   "outputs": [],
   "source": [
    "def get_forecasts():\n",
    "    # 5-day 3-h forecast (only free one available)\n",
    "    url = 'http://api.openweathermap.org/data/2.5/forecast?id=6167865&APPID=631d59f50ab1841ba7af0f0f706e1505'\n",
    "    response = requests.get(url, verify=True)\n",
    "    r = response.json()\n",
    "    \n",
    "    if response:\n",
    "        df=pd.DataFrame()\n",
    "        for dt in r['list']:    \n",
    "            row={'datetime':dt['dt_txt'],\n",
    "                 'retrieval_time':datetime.datetime.now(),\n",
    "                 'drybulb':dt['main']['temp']-273.15,\n",
    "                 'relative_humidity':dt['main']['humidity']}\n",
    "            # note: Kelvin to Celcius\n",
    "            \n",
    "            df = df.append(row, ignore_index=True)\n",
    "        df.set_index(pd.DatetimeIndex(df['datetime']), inplace=True)\n",
    "        return df[['retrieval_time','drybulb', 'relative_humidity']]        \n",
    "\n",
    "    else:\n",
    "        print('Response Error')"
   ]
  },
  {
   "cell_type": "code",
   "execution_count": 3,
   "metadata": {},
   "outputs": [],
   "source": [
    "def add_forecasts():\n",
    "    session = db.session     # Creates a SQLAlchemy Session\n",
    "        \n",
    "    try:\n",
    "        df = get_forecasts()\n",
    "        for row in df.itertuples(): \n",
    "            data = Forecast(id=row[0], \n",
    "                            retrieval_time=row[1],\n",
    "                            drybulb=row[2], \n",
    "                            relative_humidity=row[3])\n",
    "            session.merge(data)\n",
    "            session.commit()\n",
    "\n",
    "    except:\n",
    "        print('something messed up') "
   ]
  },
  {
   "cell_type": "code",
   "execution_count": 6,
   "metadata": {},
   "outputs": [],
   "source": []
  },
  {
   "cell_type": "code",
   "execution_count": null,
   "metadata": {},
   "outputs": [],
   "source": []
  },
  {
   "cell_type": "code",
   "execution_count": null,
   "metadata": {},
   "outputs": [],
   "source": [
    "# df.to_csv('~/Desktop/test.csv')"
   ]
  },
  {
   "cell_type": "code",
   "execution_count": null,
   "metadata": {},
   "outputs": [],
   "source": [
    "# Legacy\n",
    "def add_scraped_forecasts():\n",
    "    import time\n",
    "    session = db.session     # Creates a SQLAlchemy Session\n",
    "    tries = 0\n",
    "   \n",
    "    while tries <=10:\n",
    "        try:\n",
    "            df = scrape_forecasts()\n",
    "            for row in df.itertuples(): \n",
    "                data = Forecast(id=row[0], drybulb=row[1], dewpoint=row[2])\n",
    "                session.merge(data)\n",
    "                session.commit()\n",
    "            break\n",
    "\n",
    "        except:\n",
    "            print('can\\'t get forecast')\n",
    "            time.sleep(60)\n",
    "            tries +=1"
   ]
  }
 ],
 "metadata": {
  "kernelspec": {
   "display_name": "Python [conda env:weather] *",
   "language": "python",
   "name": "conda-env-weather-py"
  },
  "language_info": {
   "codemirror_mode": {
    "name": "ipython",
    "version": 3
   },
   "file_extension": ".py",
   "mimetype": "text/x-python",
   "name": "python",
   "nbconvert_exporter": "python",
   "pygments_lexer": "ipython3",
   "version": "3.7.3"
  }
 },
 "nbformat": 4,
 "nbformat_minor": 2
}
