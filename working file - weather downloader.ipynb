{
 "cells": [
  {
   "cell_type": "code",
   "execution_count": 10,
   "metadata": {},
   "outputs": [],
   "source": [
    "import pandas as pd\n",
    "import datetime\n",
    "import requests\n",
    "import re\n",
    "from bs4 import BeautifulSoup as bs\n",
    "from dateutil.relativedelta import *\n",
    "from sqlalchemy import create_engine\n",
    "import os\n",
    "from app import db\n",
    "from models import Historical, Forecast, Station, Current"
   ]
  },
  {
   "cell_type": "code",
   "execution_count": 20,
   "metadata": {},
   "outputs": [
    {
     "data": {
      "text/html": [
       "<div>\n",
       "<style scoped>\n",
       "    .dataframe tbody tr th:only-of-type {\n",
       "        vertical-align: middle;\n",
       "    }\n",
       "\n",
       "    .dataframe tbody tr th {\n",
       "        vertical-align: top;\n",
       "    }\n",
       "\n",
       "    .dataframe thead th {\n",
       "        text-align: right;\n",
       "    }\n",
       "</style>\n",
       "<table border=\"1\" class=\"dataframe\">\n",
       "  <thead>\n",
       "    <tr style=\"text-align: right;\">\n",
       "      <th></th>\n",
       "      <th>retrieval_time</th>\n",
       "      <th>drybulb</th>\n",
       "      <th>relative_humidity</th>\n",
       "    </tr>\n",
       "    <tr>\n",
       "      <th>datetime</th>\n",
       "      <th></th>\n",
       "      <th></th>\n",
       "      <th></th>\n",
       "    </tr>\n",
       "  </thead>\n",
       "  <tbody>\n",
       "    <tr>\n",
       "      <th>2019-06-24 06:00:00</th>\n",
       "      <td>2019-06-23 23:23:56.169981</td>\n",
       "      <td>16.850</td>\n",
       "      <td>85.0</td>\n",
       "    </tr>\n",
       "    <tr>\n",
       "      <th>2019-06-24 09:00:00</th>\n",
       "      <td>2019-06-23 23:23:56.174778</td>\n",
       "      <td>15.600</td>\n",
       "      <td>84.0</td>\n",
       "    </tr>\n",
       "    <tr>\n",
       "      <th>2019-06-24 12:00:00</th>\n",
       "      <td>2019-06-23 23:23:56.177488</td>\n",
       "      <td>18.150</td>\n",
       "      <td>81.0</td>\n",
       "    </tr>\n",
       "    <tr>\n",
       "      <th>2019-06-24 15:00:00</th>\n",
       "      <td>2019-06-23 23:23:56.180403</td>\n",
       "      <td>20.780</td>\n",
       "      <td>59.0</td>\n",
       "    </tr>\n",
       "    <tr>\n",
       "      <th>2019-06-24 18:00:00</th>\n",
       "      <td>2019-06-23 23:23:56.183046</td>\n",
       "      <td>19.408</td>\n",
       "      <td>71.0</td>\n",
       "    </tr>\n",
       "  </tbody>\n",
       "</table>\n",
       "</div>"
      ],
      "text/plain": [
       "                                retrieval_time  drybulb  relative_humidity\n",
       "datetime                                                                  \n",
       "2019-06-24 06:00:00 2019-06-23 23:23:56.169981   16.850               85.0\n",
       "2019-06-24 09:00:00 2019-06-23 23:23:56.174778   15.600               84.0\n",
       "2019-06-24 12:00:00 2019-06-23 23:23:56.177488   18.150               81.0\n",
       "2019-06-24 15:00:00 2019-06-23 23:23:56.180403   20.780               59.0\n",
       "2019-06-24 18:00:00 2019-06-23 23:23:56.183046   19.408               71.0"
      ]
     },
     "execution_count": 20,
     "metadata": {},
     "output_type": "execute_result"
    }
   ],
   "source": [
    "df.head()"
   ]
  },
  {
   "cell_type": "code",
   "execution_count": 19,
   "metadata": {},
   "outputs": [
    {
     "name": "stdout",
     "output_type": "stream",
     "text": [
      "2019-06-24 06:00:00\n",
      "2019-06-24 09:00:00\n",
      "2019-06-24 12:00:00\n",
      "2019-06-24 15:00:00\n",
      "2019-06-24 18:00:00\n",
      "2019-06-24 21:00:00\n",
      "2019-06-25 00:00:00\n",
      "2019-06-25 03:00:00\n",
      "2019-06-25 06:00:00\n",
      "2019-06-25 09:00:00\n",
      "2019-06-25 12:00:00\n",
      "2019-06-25 15:00:00\n",
      "2019-06-25 18:00:00\n",
      "2019-06-25 21:00:00\n",
      "2019-06-26 00:00:00\n",
      "2019-06-26 03:00:00\n",
      "2019-06-26 06:00:00\n",
      "2019-06-26 09:00:00\n",
      "2019-06-26 12:00:00\n",
      "2019-06-26 15:00:00\n",
      "2019-06-26 18:00:00\n",
      "2019-06-26 21:00:00\n",
      "2019-06-27 00:00:00\n",
      "2019-06-27 03:00:00\n",
      "2019-06-27 06:00:00\n",
      "2019-06-27 09:00:00\n",
      "2019-06-27 12:00:00\n",
      "2019-06-27 15:00:00\n",
      "2019-06-27 18:00:00\n",
      "2019-06-27 21:00:00\n",
      "2019-06-28 00:00:00\n",
      "2019-06-28 03:00:00\n",
      "2019-06-28 06:00:00\n",
      "2019-06-28 09:00:00\n",
      "2019-06-28 12:00:00\n",
      "2019-06-28 15:00:00\n",
      "2019-06-28 18:00:00\n",
      "2019-06-28 21:00:00\n",
      "2019-06-29 00:00:00\n",
      "2019-06-29 03:00:00\n"
     ]
    }
   ],
   "source": [
    "df = get_forecasts()\n",
    "for row in df.itertuples():\n",
    "    print(row[0])\n"
   ]
  },
  {
   "cell_type": "code",
   "execution_count": 12,
   "metadata": {},
   "outputs": [],
   "source": [
    "def get_forecasts():\n",
    "    # 5-day 3-h forecast (only free one available)\n",
    "    url = 'http://api.openweathermap.org/data/2.5/forecast?id=6167865&APPID=631d59f50ab1841ba7af0f0f706e1505'\n",
    "    response = requests.get(url, verify=True)\n",
    "    r = response.json()\n",
    "    \n",
    "    if response:\n",
    "        df=pd.DataFrame()\n",
    "        for dt in r['list']:    \n",
    "            row={'datetime':dt['dt_txt'],\n",
    "                 'retrieval_time':datetime.datetime.now(),\n",
    "                 'drybulb':dt['main']['temp']-273.15,\n",
    "                 'relative_humidity':dt['main']['humidity']}\n",
    "                # note: Kelvin to Celcius\n",
    "            \n",
    "            df = df.append(row, ignore_index=True)\n",
    "        df.set_index(pd.DatetimeIndex(df['datetime']), inplace=True)\n",
    "        return df[['retrieval_time','drybulb', 'relative_humidity']]        \n",
    "\n",
    "    else:\n",
    "        print('Response Error')"
   ]
  },
  {
   "cell_type": "code",
   "execution_count": 3,
   "metadata": {},
   "outputs": [],
   "source": [
    "def add_forecasts():\n",
    "    session = db.session     # Creates a SQLAlchemy Session\n",
    "        \n",
    "    try:\n",
    "        df = get_forecasts()\n",
    "        for row in df.itertuples(): \n",
    "            data = Forecast(id=row[0], \n",
    "                            retrieval_time=row[1],\n",
    "                            drybulb=row[2], \n",
    "                            relative_humidity=row[3])\n",
    "            session.merge(data)\n",
    "            session.commit()\n",
    "\n",
    "    except:\n",
    "        print('something messed up') "
   ]
  },
  {
   "cell_type": "code",
   "execution_count": 6,
   "metadata": {},
   "outputs": [],
   "source": []
  },
  {
   "cell_type": "code",
   "execution_count": null,
   "metadata": {},
   "outputs": [],
   "source": []
  },
  {
   "cell_type": "code",
   "execution_count": null,
   "metadata": {},
   "outputs": [],
   "source": [
    "# df.to_csv('~/Desktop/test.csv')"
   ]
  },
  {
   "cell_type": "code",
   "execution_count": null,
   "metadata": {},
   "outputs": [],
   "source": [
    "# Legacy\n",
    "def add_scraped_forecasts():\n",
    "    import time\n",
    "    session = db.session     # Creates a SQLAlchemy Session\n",
    "    tries = 0\n",
    "   \n",
    "    while tries <=10:\n",
    "        try:\n",
    "            df = scrape_forecasts()\n",
    "            for row in df.itertuples(): \n",
    "                data = Forecast(id=row[0], drybulb=row[1], dewpoint=row[2])\n",
    "                session.merge(data)\n",
    "                session.commit()\n",
    "            break\n",
    "\n",
    "        except:\n",
    "            print('can\\'t get forecast')\n",
    "            time.sleep(60)\n",
    "            tries +=1"
   ]
  }
 ],
 "metadata": {
  "kernelspec": {
   "display_name": "Python [conda env:weather] *",
   "language": "python",
   "name": "conda-env-weather-py"
  },
  "language_info": {
   "codemirror_mode": {
    "name": "ipython",
    "version": 3
   },
   "file_extension": ".py",
   "mimetype": "text/x-python",
   "name": "python",
   "nbconvert_exporter": "python",
   "pygments_lexer": "ipython3",
   "version": "3.7.3"
  }
 },
 "nbformat": 4,
 "nbformat_minor": 2
}
