{
 "cells": [
  {
   "cell_type": "code",
   "execution_count": 35,
   "metadata": {},
   "outputs": [],
   "source": [
    "import sqlalchemy as db\n",
    "import pandas as pd"
   ]
  },
  {
   "cell_type": "code",
   "execution_count": 18,
   "metadata": {},
   "outputs": [],
   "source": [
    "engine = db.create_engine('postgresql://localhost/weather')\n",
    "connection = engine.connect()\n",
    "metadata = db.MetaData()\n",
    "historicals = db.Table('historicals', metadata, autoload=True, autoload_with=engine)\n"
   ]
  },
  {
   "cell_type": "code",
   "execution_count": 20,
   "metadata": {},
   "outputs": [
    {
     "data": {
      "text/plain": [
       "Table('historicals', MetaData(bind=None), Column('datetime', TIMESTAMP(), table=<historicals>, primary_key=True, nullable=False), Column('drybulb', INTEGER(), table=<historicals>), Column('day', INTEGER(), table=<historicals>), Column('dewpoint', INTEGER(), table=<historicals>), Column('hmdx', INTEGER(), table=<historicals>), Column('month', INTEGER(), table=<historicals>), Column('relative_humidity', INTEGER(), table=<historicals>), Column('stn_press_kpa', INTEGER(), table=<historicals>), Column('time', INTEGER(), table=<historicals>), Column('visibility_km', INTEGER(), table=<historicals>), Column('weather', INTEGER(), table=<historicals>), Column('wind_chill', INTEGER(), table=<historicals>), Column('wind_dir_10s_deg', INTEGER(), table=<historicals>), Column('wind_spd_kmh', INTEGER(), table=<historicals>), Column('year', INTEGER(), table=<historicals>), schema=None)"
      ]
     },
     "execution_count": 20,
     "metadata": {},
     "output_type": "execute_result"
    }
   ],
   "source": [
    "historicals"
   ]
  },
  {
   "cell_type": "code",
   "execution_count": 26,
   "metadata": {},
   "outputs": [],
   "source": [
    "#Equivalent to 'SELECT * FROM historicals'\n",
    "query = db.select([historicals])"
   ]
  },
  {
   "cell_type": "code",
   "execution_count": 27,
   "metadata": {},
   "outputs": [],
   "source": [
    "ResultProxy = connection.execute(query)"
   ]
  },
  {
   "cell_type": "code",
   "execution_count": 28,
   "metadata": {},
   "outputs": [],
   "source": [
    "ResultSet = ResultProxy.fetchall()"
   ]
  },
  {
   "cell_type": "code",
   "execution_count": 33,
   "metadata": {},
   "outputs": [],
   "source": [
    "df = pd.DataFrame(ResultSet)\n",
    "df.columns = ResultSet[0].keys()"
   ]
  },
  {
   "cell_type": "code",
   "execution_count": 34,
   "metadata": {},
   "outputs": [
    {
     "data": {
      "text/html": [
       "<div>\n",
       "<style scoped>\n",
       "    .dataframe tbody tr th:only-of-type {\n",
       "        vertical-align: middle;\n",
       "    }\n",
       "\n",
       "    .dataframe tbody tr th {\n",
       "        vertical-align: top;\n",
       "    }\n",
       "\n",
       "    .dataframe thead th {\n",
       "        text-align: right;\n",
       "    }\n",
       "</style>\n",
       "<table border=\"1\" class=\"dataframe\">\n",
       "  <thead>\n",
       "    <tr style=\"text-align: right;\">\n",
       "      <th></th>\n",
       "      <th>datetime</th>\n",
       "      <th>drybulb</th>\n",
       "      <th>day</th>\n",
       "      <th>dewpoint</th>\n",
       "      <th>hmdx</th>\n",
       "      <th>month</th>\n",
       "      <th>relative_humidity</th>\n",
       "      <th>stn_press_kpa</th>\n",
       "      <th>time</th>\n",
       "      <th>visibility_km</th>\n",
       "      <th>weather</th>\n",
       "      <th>wind_chill</th>\n",
       "      <th>wind_dir_10s_deg</th>\n",
       "      <th>wind_spd_kmh</th>\n",
       "      <th>year</th>\n",
       "    </tr>\n",
       "  </thead>\n",
       "  <tbody>\n",
       "    <tr>\n",
       "      <th>0</th>\n",
       "      <td>2018-01-01 00:00:00</td>\n",
       "      <td>-17.0</td>\n",
       "      <td>None</td>\n",
       "      <td>-21.0</td>\n",
       "      <td>NaN</td>\n",
       "      <td>None</td>\n",
       "      <td>70.0</td>\n",
       "      <td>102.0</td>\n",
       "      <td>None</td>\n",
       "      <td>None</td>\n",
       "      <td>None</td>\n",
       "      <td>None</td>\n",
       "      <td>None</td>\n",
       "      <td>None</td>\n",
       "      <td>None</td>\n",
       "    </tr>\n",
       "    <tr>\n",
       "      <th>1</th>\n",
       "      <td>2018-01-01 01:00:00</td>\n",
       "      <td>-16.0</td>\n",
       "      <td>None</td>\n",
       "      <td>-21.0</td>\n",
       "      <td>NaN</td>\n",
       "      <td>None</td>\n",
       "      <td>69.0</td>\n",
       "      <td>102.0</td>\n",
       "      <td>None</td>\n",
       "      <td>None</td>\n",
       "      <td>None</td>\n",
       "      <td>None</td>\n",
       "      <td>None</td>\n",
       "      <td>None</td>\n",
       "      <td>None</td>\n",
       "    </tr>\n",
       "    <tr>\n",
       "      <th>2</th>\n",
       "      <td>2018-01-01 02:00:00</td>\n",
       "      <td>-18.0</td>\n",
       "      <td>None</td>\n",
       "      <td>-22.0</td>\n",
       "      <td>NaN</td>\n",
       "      <td>None</td>\n",
       "      <td>71.0</td>\n",
       "      <td>102.0</td>\n",
       "      <td>None</td>\n",
       "      <td>None</td>\n",
       "      <td>None</td>\n",
       "      <td>None</td>\n",
       "      <td>None</td>\n",
       "      <td>None</td>\n",
       "      <td>None</td>\n",
       "    </tr>\n",
       "    <tr>\n",
       "      <th>3</th>\n",
       "      <td>2018-01-01 03:00:00</td>\n",
       "      <td>-19.0</td>\n",
       "      <td>None</td>\n",
       "      <td>-22.0</td>\n",
       "      <td>NaN</td>\n",
       "      <td>None</td>\n",
       "      <td>75.0</td>\n",
       "      <td>102.0</td>\n",
       "      <td>None</td>\n",
       "      <td>None</td>\n",
       "      <td>None</td>\n",
       "      <td>None</td>\n",
       "      <td>None</td>\n",
       "      <td>None</td>\n",
       "      <td>None</td>\n",
       "    </tr>\n",
       "    <tr>\n",
       "      <th>4</th>\n",
       "      <td>2018-01-01 04:00:00</td>\n",
       "      <td>-18.0</td>\n",
       "      <td>None</td>\n",
       "      <td>-21.0</td>\n",
       "      <td>NaN</td>\n",
       "      <td>None</td>\n",
       "      <td>75.0</td>\n",
       "      <td>102.0</td>\n",
       "      <td>None</td>\n",
       "      <td>None</td>\n",
       "      <td>None</td>\n",
       "      <td>None</td>\n",
       "      <td>None</td>\n",
       "      <td>None</td>\n",
       "      <td>None</td>\n",
       "    </tr>\n",
       "  </tbody>\n",
       "</table>\n",
       "</div>"
      ],
      "text/plain": [
       "             datetime  drybulb   day  dewpoint  hmdx month  relative_humidity  \\\n",
       "0 2018-01-01 00:00:00    -17.0  None     -21.0   NaN  None               70.0   \n",
       "1 2018-01-01 01:00:00    -16.0  None     -21.0   NaN  None               69.0   \n",
       "2 2018-01-01 02:00:00    -18.0  None     -22.0   NaN  None               71.0   \n",
       "3 2018-01-01 03:00:00    -19.0  None     -22.0   NaN  None               75.0   \n",
       "4 2018-01-01 04:00:00    -18.0  None     -21.0   NaN  None               75.0   \n",
       "\n",
       "   stn_press_kpa  time visibility_km weather wind_chill wind_dir_10s_deg  \\\n",
       "0          102.0  None          None    None       None             None   \n",
       "1          102.0  None          None    None       None             None   \n",
       "2          102.0  None          None    None       None             None   \n",
       "3          102.0  None          None    None       None             None   \n",
       "4          102.0  None          None    None       None             None   \n",
       "\n",
       "  wind_spd_kmh  year  \n",
       "0         None  None  \n",
       "1         None  None  \n",
       "2         None  None  \n",
       "3         None  None  \n",
       "4         None  None  "
      ]
     },
     "execution_count": 34,
     "metadata": {},
     "output_type": "execute_result"
    }
   ],
   "source": [
    "df.head()"
   ]
  },
  {
   "cell_type": "code",
   "execution_count": null,
   "metadata": {},
   "outputs": [],
   "source": []
  }
 ],
 "metadata": {
  "kernelspec": {
   "display_name": "Python [conda env:weather] *",
   "language": "python",
   "name": "conda-env-weather-py"
  },
  "language_info": {
   "codemirror_mode": {
    "name": "ipython",
    "version": 3
   },
   "file_extension": ".py",
   "mimetype": "text/x-python",
   "name": "python",
   "nbconvert_exporter": "python",
   "pygments_lexer": "ipython3",
   "version": "3.7.3"
  }
 },
 "nbformat": 4,
 "nbformat_minor": 2
}
